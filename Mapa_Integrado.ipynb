{
  "nbformat": 4,
  "nbformat_minor": 0,
  "metadata": {
    "colab": {
      "provenance": [],
      "authorship_tag": "ABX9TyPMPqj4WRuD8/xBlqGxfml1",
      "include_colab_link": true
    },
    "kernelspec": {
      "name": "python3",
      "display_name": "Python 3"
    },
    "language_info": {
      "name": "python"
    }
  },
  "cells": [
    {
      "cell_type": "markdown",
      "metadata": {
        "id": "view-in-github",
        "colab_type": "text"
      },
      "source": [
        "<a href=\"https://colab.research.google.com/github/frankebru/Mapa-Integrado/blob/main/Mapa_Integrado.ipynb\" target=\"_parent\"><img src=\"https://colab.research.google.com/assets/colab-badge.svg\" alt=\"Open In Colab\"/></a>"
      ]
    },
    {
      "cell_type": "code",
      "source": [
        "\n",
        "import datetime\n",
        "\n",
        "def calcular_tarifa(tempo_permanencia):\n",
        "    if tempo_permanencia <= 15:\n",
        "        return 0.00\n",
        "    return 1.50 + max(0, (tempo_permanencia - 60) // 60) * 1.00\n",
        "\n",
        "def registrar_entrada():\n",
        "    placa = input(\"Placa do veículo: \")\n",
        "    estacionamento[placa] = int(input(\"Informe o tempo de permanência (minutos): \"))\n",
        "    print(f\"Entrada registrada para {placa}.\")\n",
        "\n",
        "def registrar_saida():\n",
        "    placa = input(\"Placa do veículo: \")\n",
        "    if placa in estacionamento:\n",
        "        tempo_permanencia = estacionamento.pop(placa)\n",
        "        tarifa = calcular_tarifa(tempo_permanencia)\n",
        "        print(f\"Saída registrada. Tempo de permanência: {tempo_permanencia} minutos. Valor a pagar: R$ {tarifa:.2f}\")\n",
        "    else:\n",
        "        print(\"Placa não encontrada.\")\n",
        "\n",
        "def menu():\n",
        "    while True:\n",
        "        opcao = input(\"\\n1- Entrada \\n2- Saída \\n3- Sair \\nEscolha: \")\n",
        "        if opcao == \"1\": registrar_entrada()\n",
        "        elif opcao == \"2\": registrar_saida()\n",
        "        elif opcao == \"3\": break\n",
        "        else: print(\"Opção inválida.\")\n",
        "\n",
        "estacionamento = {}\n",
        "menu()"
      ],
      "metadata": {
        "colab": {
          "base_uri": "https://localhost:8080/"
        },
        "id": "CFsRH1YOcvB1",
        "outputId": "42ef317b-e273-49f6-c778-f9796d6cb7cc"
      },
      "execution_count": null,
      "outputs": [
        {
          "name": "stdout",
          "output_type": "stream",
          "text": [
            "\n",
            "1- Entrada \n",
            "2- Saída \n",
            "3- Sair \n",
            "Escolha: 1\n",
            "Placa do veículo: Exemplo1\n",
            "Informe o tempo de permanência (minutos): 30\n",
            "Entrada registrada para Exemplo1.\n",
            "\n",
            "1- Entrada \n",
            "2- Saída \n",
            "3- Sair \n",
            "Escolha: 2\n",
            "Placa do veículo: Exemplo1\n",
            "Saída registrada. Tempo de permanência: 30 minutos. Valor a pagar: R$ 1.50\n",
            "\n",
            "1- Entrada \n",
            "2- Saída \n",
            "3- Sair \n",
            "Escolha: 1\n",
            "Placa do veículo: Exemplo2\n",
            "Informe o tempo de permanência (minutos): 90\n",
            "Entrada registrada para Exemplo2.\n",
            "\n",
            "1- Entrada \n",
            "2- Saída \n",
            "3- Sair \n",
            "Escolha: 2\n",
            "Placa do veículo: Exemplo2\n",
            "Saída registrada. Tempo de permanência: 90 minutos. Valor a pagar: R$ 1.50\n",
            "\n",
            "1- Entrada \n",
            "2- Saída \n",
            "3- Sair \n",
            "Escolha: 1\n",
            "Placa do veículo: Exemplo3\n",
            "Informe o tempo de permanência (minutos): 150\n",
            "Entrada registrada para Exemplo3.\n",
            "\n",
            "1- Entrada \n",
            "2- Saída \n",
            "3- Sair \n",
            "Escolha: 2\n",
            "Placa do veículo: Exemplo3\n",
            "Saída registrada. Tempo de permanência: 150 minutos. Valor a pagar: R$ 2.50\n",
            "\n",
            "1- Entrada \n",
            "2- Saída \n",
            "3- Sair \n",
            "Escolha: 1\n",
            "Placa do veículo: Exemplo4\n",
            "Informe o tempo de permanência (minutos): 13\n",
            "Entrada registrada para Exemplo4.\n",
            "\n",
            "1- Entrada \n",
            "2- Saída \n",
            "3- Sair \n",
            "Escolha: 2\n",
            "Placa do veículo: Exemplo4\n",
            "Saída registrada. Tempo de permanência: 13 minutos. Valor a pagar: R$ 0.00\n",
            "\n",
            "1- Entrada \n",
            "2- Saída \n",
            "3- Sair \n",
            "Escolha: 3\n"
          ]
        }
      ]
    },
    {
      "cell_type": "code",
      "source": [],
      "metadata": {
        "id": "QBrSui9xl3N3"
      },
      "execution_count": null,
      "outputs": []
    },
    {
      "cell_type": "markdown",
      "source": [],
      "metadata": {
        "id": "x-wMBxzhl35G"
      }
    }
  ]
}